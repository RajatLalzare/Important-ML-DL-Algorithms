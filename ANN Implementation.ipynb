{
 "cells": [
  {
   "cell_type": "code",
   "execution_count": 1,
   "id": "dc3f2956",
   "metadata": {},
   "outputs": [],
   "source": [
    "import tensorflow as tf"
   ]
  },
  {
   "cell_type": "code",
   "execution_count": 2,
   "id": "e6314ecc",
   "metadata": {},
   "outputs": [
    {
     "name": "stdout",
     "output_type": "stream",
     "text": [
      "   RowNumber  CustomerId   Surname  CreditScore Geography  Gender  Age  \\\n",
      "0          1    15634602  Hargrave          619    France  Female   42   \n",
      "1          2    15647311      Hill          608     Spain  Female   41   \n",
      "2          3    15619304      Onio          502    France  Female   42   \n",
      "3          4    15701354      Boni          699    France  Female   39   \n",
      "4          5    15737888  Mitchell          850     Spain  Female   43   \n",
      "\n",
      "   Tenure    Balance  NumOfProducts  HasCrCard  IsActiveMember  \\\n",
      "0       2       0.00              1          1               1   \n",
      "1       1   83807.86              1          0               1   \n",
      "2       8  159660.80              3          1               0   \n",
      "3       1       0.00              2          0               0   \n",
      "4       2  125510.82              1          1               1   \n",
      "\n",
      "   EstimatedSalary  Exited  \n",
      "0        101348.88       1  \n",
      "1        112542.58       0  \n",
      "2        113931.57       1  \n",
      "3         93826.63       0  \n",
      "4         79084.10       0  \n"
     ]
    }
   ],
   "source": [
    "import numpy as np \n",
    "import pandas as pd\n",
    "import matplotlib.pyplot as plt\n",
    "%matplotlib inline\n",
    "\n",
    "data =pd.read_csv('C:\\\\Users\\\\panka\\\\Downloads\\\\DataSets\\\\Churn_Modelling.csv')\n",
    "print(data.head())"
   ]
  },
  {
   "cell_type": "markdown",
   "id": "d766ecf1",
   "metadata": {},
   "source": [
    "# Dividing the Dataset Into Independant And Dependant feature"
   ]
  },
  {
   "cell_type": "code",
   "execution_count": 3,
   "id": "aeffa320",
   "metadata": {},
   "outputs": [],
   "source": [
    "x = data.iloc[:,3:13]\n",
    "y = data.iloc[:,13]"
   ]
  },
  {
   "cell_type": "code",
   "execution_count": 4,
   "id": "b4422d0a",
   "metadata": {},
   "outputs": [
    {
     "data": {
      "text/html": [
       "<div>\n",
       "<style scoped>\n",
       "    .dataframe tbody tr th:only-of-type {\n",
       "        vertical-align: middle;\n",
       "    }\n",
       "\n",
       "    .dataframe tbody tr th {\n",
       "        vertical-align: top;\n",
       "    }\n",
       "\n",
       "    .dataframe thead th {\n",
       "        text-align: right;\n",
       "    }\n",
       "</style>\n",
       "<table border=\"1\" class=\"dataframe\">\n",
       "  <thead>\n",
       "    <tr style=\"text-align: right;\">\n",
       "      <th></th>\n",
       "      <th>CreditScore</th>\n",
       "      <th>Geography</th>\n",
       "      <th>Gender</th>\n",
       "      <th>Age</th>\n",
       "      <th>Tenure</th>\n",
       "      <th>Balance</th>\n",
       "      <th>NumOfProducts</th>\n",
       "      <th>HasCrCard</th>\n",
       "      <th>IsActiveMember</th>\n",
       "      <th>EstimatedSalary</th>\n",
       "    </tr>\n",
       "  </thead>\n",
       "  <tbody>\n",
       "    <tr>\n",
       "      <th>0</th>\n",
       "      <td>619</td>\n",
       "      <td>France</td>\n",
       "      <td>Female</td>\n",
       "      <td>42</td>\n",
       "      <td>2</td>\n",
       "      <td>0.00</td>\n",
       "      <td>1</td>\n",
       "      <td>1</td>\n",
       "      <td>1</td>\n",
       "      <td>101348.88</td>\n",
       "    </tr>\n",
       "    <tr>\n",
       "      <th>1</th>\n",
       "      <td>608</td>\n",
       "      <td>Spain</td>\n",
       "      <td>Female</td>\n",
       "      <td>41</td>\n",
       "      <td>1</td>\n",
       "      <td>83807.86</td>\n",
       "      <td>1</td>\n",
       "      <td>0</td>\n",
       "      <td>1</td>\n",
       "      <td>112542.58</td>\n",
       "    </tr>\n",
       "    <tr>\n",
       "      <th>2</th>\n",
       "      <td>502</td>\n",
       "      <td>France</td>\n",
       "      <td>Female</td>\n",
       "      <td>42</td>\n",
       "      <td>8</td>\n",
       "      <td>159660.80</td>\n",
       "      <td>3</td>\n",
       "      <td>1</td>\n",
       "      <td>0</td>\n",
       "      <td>113931.57</td>\n",
       "    </tr>\n",
       "    <tr>\n",
       "      <th>3</th>\n",
       "      <td>699</td>\n",
       "      <td>France</td>\n",
       "      <td>Female</td>\n",
       "      <td>39</td>\n",
       "      <td>1</td>\n",
       "      <td>0.00</td>\n",
       "      <td>2</td>\n",
       "      <td>0</td>\n",
       "      <td>0</td>\n",
       "      <td>93826.63</td>\n",
       "    </tr>\n",
       "    <tr>\n",
       "      <th>4</th>\n",
       "      <td>850</td>\n",
       "      <td>Spain</td>\n",
       "      <td>Female</td>\n",
       "      <td>43</td>\n",
       "      <td>2</td>\n",
       "      <td>125510.82</td>\n",
       "      <td>1</td>\n",
       "      <td>1</td>\n",
       "      <td>1</td>\n",
       "      <td>79084.10</td>\n",
       "    </tr>\n",
       "  </tbody>\n",
       "</table>\n",
       "</div>"
      ],
      "text/plain": [
       "   CreditScore Geography  Gender  Age  Tenure    Balance  NumOfProducts  \\\n",
       "0          619    France  Female   42       2       0.00              1   \n",
       "1          608     Spain  Female   41       1   83807.86              1   \n",
       "2          502    France  Female   42       8  159660.80              3   \n",
       "3          699    France  Female   39       1       0.00              2   \n",
       "4          850     Spain  Female   43       2  125510.82              1   \n",
       "\n",
       "   HasCrCard  IsActiveMember  EstimatedSalary  \n",
       "0          1               1        101348.88  \n",
       "1          0               1        112542.58  \n",
       "2          1               0        113931.57  \n",
       "3          0               0         93826.63  \n",
       "4          1               1         79084.10  "
      ]
     },
     "execution_count": 4,
     "metadata": {},
     "output_type": "execute_result"
    }
   ],
   "source": [
    "x.head()"
   ]
  },
  {
   "cell_type": "code",
   "execution_count": 5,
   "id": "20926ffe",
   "metadata": {},
   "outputs": [
    {
     "data": {
      "text/plain": [
       "0    1\n",
       "1    0\n",
       "2    1\n",
       "3    0\n",
       "4    0\n",
       "Name: Exited, dtype: int64"
      ]
     },
     "execution_count": 5,
     "metadata": {},
     "output_type": "execute_result"
    }
   ],
   "source": [
    "y.head()"
   ]
  },
  {
   "cell_type": "markdown",
   "id": "e685a05c",
   "metadata": {},
   "source": [
    "## Feature Engineering"
   ]
  },
  {
   "cell_type": "code",
   "execution_count": 6,
   "id": "1b91de90",
   "metadata": {},
   "outputs": [],
   "source": [
    "geography = pd.get_dummies(x['Geography'])\n",
    "gender = pd.get_dummies(x['Gender'])"
   ]
  },
  {
   "cell_type": "code",
   "execution_count": 7,
   "id": "779fc238",
   "metadata": {},
   "outputs": [
    {
     "data": {
      "text/plain": [
       "(   France  Germany  Spain\n",
       " 0       1        0      0\n",
       " 1       0        0      1\n",
       " 2       1        0      0\n",
       " 3       1        0      0\n",
       " 4       0        0      1,\n",
       "    Female  Male\n",
       " 0       1     0\n",
       " 1       1     0\n",
       " 2       1     0\n",
       " 3       1     0\n",
       " 4       1     0)"
      ]
     },
     "execution_count": 7,
     "metadata": {},
     "output_type": "execute_result"
    }
   ],
   "source": [
    "geography.head(),gender.head()"
   ]
  },
  {
   "cell_type": "markdown",
   "id": "4b91e1a3",
   "metadata": {},
   "source": [
    "# We will,concat the two variale so drop the original one"
   ]
  },
  {
   "cell_type": "code",
   "execution_count": 8,
   "id": "fcc4437a",
   "metadata": {},
   "outputs": [],
   "source": [
    "x=x.drop(['Geography','Gender'],axis =1)"
   ]
  },
  {
   "cell_type": "code",
   "execution_count": 9,
   "id": "702b3968",
   "metadata": {},
   "outputs": [
    {
     "data": {
      "text/html": [
       "<div>\n",
       "<style scoped>\n",
       "    .dataframe tbody tr th:only-of-type {\n",
       "        vertical-align: middle;\n",
       "    }\n",
       "\n",
       "    .dataframe tbody tr th {\n",
       "        vertical-align: top;\n",
       "    }\n",
       "\n",
       "    .dataframe thead th {\n",
       "        text-align: right;\n",
       "    }\n",
       "</style>\n",
       "<table border=\"1\" class=\"dataframe\">\n",
       "  <thead>\n",
       "    <tr style=\"text-align: right;\">\n",
       "      <th></th>\n",
       "      <th>CreditScore</th>\n",
       "      <th>Age</th>\n",
       "      <th>Tenure</th>\n",
       "      <th>Balance</th>\n",
       "      <th>NumOfProducts</th>\n",
       "      <th>HasCrCard</th>\n",
       "      <th>IsActiveMember</th>\n",
       "      <th>EstimatedSalary</th>\n",
       "    </tr>\n",
       "  </thead>\n",
       "  <tbody>\n",
       "    <tr>\n",
       "      <th>0</th>\n",
       "      <td>619</td>\n",
       "      <td>42</td>\n",
       "      <td>2</td>\n",
       "      <td>0.00</td>\n",
       "      <td>1</td>\n",
       "      <td>1</td>\n",
       "      <td>1</td>\n",
       "      <td>101348.88</td>\n",
       "    </tr>\n",
       "    <tr>\n",
       "      <th>1</th>\n",
       "      <td>608</td>\n",
       "      <td>41</td>\n",
       "      <td>1</td>\n",
       "      <td>83807.86</td>\n",
       "      <td>1</td>\n",
       "      <td>0</td>\n",
       "      <td>1</td>\n",
       "      <td>112542.58</td>\n",
       "    </tr>\n",
       "    <tr>\n",
       "      <th>2</th>\n",
       "      <td>502</td>\n",
       "      <td>42</td>\n",
       "      <td>8</td>\n",
       "      <td>159660.80</td>\n",
       "      <td>3</td>\n",
       "      <td>1</td>\n",
       "      <td>0</td>\n",
       "      <td>113931.57</td>\n",
       "    </tr>\n",
       "    <tr>\n",
       "      <th>3</th>\n",
       "      <td>699</td>\n",
       "      <td>39</td>\n",
       "      <td>1</td>\n",
       "      <td>0.00</td>\n",
       "      <td>2</td>\n",
       "      <td>0</td>\n",
       "      <td>0</td>\n",
       "      <td>93826.63</td>\n",
       "    </tr>\n",
       "    <tr>\n",
       "      <th>4</th>\n",
       "      <td>850</td>\n",
       "      <td>43</td>\n",
       "      <td>2</td>\n",
       "      <td>125510.82</td>\n",
       "      <td>1</td>\n",
       "      <td>1</td>\n",
       "      <td>1</td>\n",
       "      <td>79084.10</td>\n",
       "    </tr>\n",
       "  </tbody>\n",
       "</table>\n",
       "</div>"
      ],
      "text/plain": [
       "   CreditScore  Age  Tenure    Balance  NumOfProducts  HasCrCard  \\\n",
       "0          619   42       2       0.00              1          1   \n",
       "1          608   41       1   83807.86              1          0   \n",
       "2          502   42       8  159660.80              3          1   \n",
       "3          699   39       1       0.00              2          0   \n",
       "4          850   43       2  125510.82              1          1   \n",
       "\n",
       "   IsActiveMember  EstimatedSalary  \n",
       "0               1        101348.88  \n",
       "1               1        112542.58  \n",
       "2               0        113931.57  \n",
       "3               0         93826.63  \n",
       "4               1         79084.10  "
      ]
     },
     "execution_count": 9,
     "metadata": {},
     "output_type": "execute_result"
    }
   ],
   "source": [
    "x.head()"
   ]
  },
  {
   "cell_type": "code",
   "execution_count": 10,
   "id": "0c5d9718",
   "metadata": {},
   "outputs": [],
   "source": [
    "x =pd.concat([x,geography,gender],axis = 1)"
   ]
  },
  {
   "cell_type": "code",
   "execution_count": 11,
   "id": "dab3d3cd",
   "metadata": {},
   "outputs": [
    {
     "data": {
      "text/html": [
       "<div>\n",
       "<style scoped>\n",
       "    .dataframe tbody tr th:only-of-type {\n",
       "        vertical-align: middle;\n",
       "    }\n",
       "\n",
       "    .dataframe tbody tr th {\n",
       "        vertical-align: top;\n",
       "    }\n",
       "\n",
       "    .dataframe thead th {\n",
       "        text-align: right;\n",
       "    }\n",
       "</style>\n",
       "<table border=\"1\" class=\"dataframe\">\n",
       "  <thead>\n",
       "    <tr style=\"text-align: right;\">\n",
       "      <th></th>\n",
       "      <th>CreditScore</th>\n",
       "      <th>Age</th>\n",
       "      <th>Tenure</th>\n",
       "      <th>Balance</th>\n",
       "      <th>NumOfProducts</th>\n",
       "      <th>HasCrCard</th>\n",
       "      <th>IsActiveMember</th>\n",
       "      <th>EstimatedSalary</th>\n",
       "      <th>France</th>\n",
       "      <th>Germany</th>\n",
       "      <th>Spain</th>\n",
       "      <th>Female</th>\n",
       "      <th>Male</th>\n",
       "    </tr>\n",
       "  </thead>\n",
       "  <tbody>\n",
       "    <tr>\n",
       "      <th>0</th>\n",
       "      <td>619</td>\n",
       "      <td>42</td>\n",
       "      <td>2</td>\n",
       "      <td>0.00</td>\n",
       "      <td>1</td>\n",
       "      <td>1</td>\n",
       "      <td>1</td>\n",
       "      <td>101348.88</td>\n",
       "      <td>1</td>\n",
       "      <td>0</td>\n",
       "      <td>0</td>\n",
       "      <td>1</td>\n",
       "      <td>0</td>\n",
       "    </tr>\n",
       "    <tr>\n",
       "      <th>1</th>\n",
       "      <td>608</td>\n",
       "      <td>41</td>\n",
       "      <td>1</td>\n",
       "      <td>83807.86</td>\n",
       "      <td>1</td>\n",
       "      <td>0</td>\n",
       "      <td>1</td>\n",
       "      <td>112542.58</td>\n",
       "      <td>0</td>\n",
       "      <td>0</td>\n",
       "      <td>1</td>\n",
       "      <td>1</td>\n",
       "      <td>0</td>\n",
       "    </tr>\n",
       "    <tr>\n",
       "      <th>2</th>\n",
       "      <td>502</td>\n",
       "      <td>42</td>\n",
       "      <td>8</td>\n",
       "      <td>159660.80</td>\n",
       "      <td>3</td>\n",
       "      <td>1</td>\n",
       "      <td>0</td>\n",
       "      <td>113931.57</td>\n",
       "      <td>1</td>\n",
       "      <td>0</td>\n",
       "      <td>0</td>\n",
       "      <td>1</td>\n",
       "      <td>0</td>\n",
       "    </tr>\n",
       "    <tr>\n",
       "      <th>3</th>\n",
       "      <td>699</td>\n",
       "      <td>39</td>\n",
       "      <td>1</td>\n",
       "      <td>0.00</td>\n",
       "      <td>2</td>\n",
       "      <td>0</td>\n",
       "      <td>0</td>\n",
       "      <td>93826.63</td>\n",
       "      <td>1</td>\n",
       "      <td>0</td>\n",
       "      <td>0</td>\n",
       "      <td>1</td>\n",
       "      <td>0</td>\n",
       "    </tr>\n",
       "    <tr>\n",
       "      <th>4</th>\n",
       "      <td>850</td>\n",
       "      <td>43</td>\n",
       "      <td>2</td>\n",
       "      <td>125510.82</td>\n",
       "      <td>1</td>\n",
       "      <td>1</td>\n",
       "      <td>1</td>\n",
       "      <td>79084.10</td>\n",
       "      <td>0</td>\n",
       "      <td>0</td>\n",
       "      <td>1</td>\n",
       "      <td>1</td>\n",
       "      <td>0</td>\n",
       "    </tr>\n",
       "    <tr>\n",
       "      <th>...</th>\n",
       "      <td>...</td>\n",
       "      <td>...</td>\n",
       "      <td>...</td>\n",
       "      <td>...</td>\n",
       "      <td>...</td>\n",
       "      <td>...</td>\n",
       "      <td>...</td>\n",
       "      <td>...</td>\n",
       "      <td>...</td>\n",
       "      <td>...</td>\n",
       "      <td>...</td>\n",
       "      <td>...</td>\n",
       "      <td>...</td>\n",
       "    </tr>\n",
       "    <tr>\n",
       "      <th>9995</th>\n",
       "      <td>771</td>\n",
       "      <td>39</td>\n",
       "      <td>5</td>\n",
       "      <td>0.00</td>\n",
       "      <td>2</td>\n",
       "      <td>1</td>\n",
       "      <td>0</td>\n",
       "      <td>96270.64</td>\n",
       "      <td>1</td>\n",
       "      <td>0</td>\n",
       "      <td>0</td>\n",
       "      <td>0</td>\n",
       "      <td>1</td>\n",
       "    </tr>\n",
       "    <tr>\n",
       "      <th>9996</th>\n",
       "      <td>516</td>\n",
       "      <td>35</td>\n",
       "      <td>10</td>\n",
       "      <td>57369.61</td>\n",
       "      <td>1</td>\n",
       "      <td>1</td>\n",
       "      <td>1</td>\n",
       "      <td>101699.77</td>\n",
       "      <td>1</td>\n",
       "      <td>0</td>\n",
       "      <td>0</td>\n",
       "      <td>0</td>\n",
       "      <td>1</td>\n",
       "    </tr>\n",
       "    <tr>\n",
       "      <th>9997</th>\n",
       "      <td>709</td>\n",
       "      <td>36</td>\n",
       "      <td>7</td>\n",
       "      <td>0.00</td>\n",
       "      <td>1</td>\n",
       "      <td>0</td>\n",
       "      <td>1</td>\n",
       "      <td>42085.58</td>\n",
       "      <td>1</td>\n",
       "      <td>0</td>\n",
       "      <td>0</td>\n",
       "      <td>1</td>\n",
       "      <td>0</td>\n",
       "    </tr>\n",
       "    <tr>\n",
       "      <th>9998</th>\n",
       "      <td>772</td>\n",
       "      <td>42</td>\n",
       "      <td>3</td>\n",
       "      <td>75075.31</td>\n",
       "      <td>2</td>\n",
       "      <td>1</td>\n",
       "      <td>0</td>\n",
       "      <td>92888.52</td>\n",
       "      <td>0</td>\n",
       "      <td>1</td>\n",
       "      <td>0</td>\n",
       "      <td>0</td>\n",
       "      <td>1</td>\n",
       "    </tr>\n",
       "    <tr>\n",
       "      <th>9999</th>\n",
       "      <td>792</td>\n",
       "      <td>28</td>\n",
       "      <td>4</td>\n",
       "      <td>130142.79</td>\n",
       "      <td>1</td>\n",
       "      <td>1</td>\n",
       "      <td>0</td>\n",
       "      <td>38190.78</td>\n",
       "      <td>1</td>\n",
       "      <td>0</td>\n",
       "      <td>0</td>\n",
       "      <td>1</td>\n",
       "      <td>0</td>\n",
       "    </tr>\n",
       "  </tbody>\n",
       "</table>\n",
       "<p>10000 rows × 13 columns</p>\n",
       "</div>"
      ],
      "text/plain": [
       "      CreditScore  Age  Tenure    Balance  NumOfProducts  HasCrCard  \\\n",
       "0             619   42       2       0.00              1          1   \n",
       "1             608   41       1   83807.86              1          0   \n",
       "2             502   42       8  159660.80              3          1   \n",
       "3             699   39       1       0.00              2          0   \n",
       "4             850   43       2  125510.82              1          1   \n",
       "...           ...  ...     ...        ...            ...        ...   \n",
       "9995          771   39       5       0.00              2          1   \n",
       "9996          516   35      10   57369.61              1          1   \n",
       "9997          709   36       7       0.00              1          0   \n",
       "9998          772   42       3   75075.31              2          1   \n",
       "9999          792   28       4  130142.79              1          1   \n",
       "\n",
       "      IsActiveMember  EstimatedSalary  France  Germany  Spain  Female  Male  \n",
       "0                  1        101348.88       1        0      0       1     0  \n",
       "1                  1        112542.58       0        0      1       1     0  \n",
       "2                  0        113931.57       1        0      0       1     0  \n",
       "3                  0         93826.63       1        0      0       1     0  \n",
       "4                  1         79084.10       0        0      1       1     0  \n",
       "...              ...              ...     ...      ...    ...     ...   ...  \n",
       "9995               0         96270.64       1        0      0       0     1  \n",
       "9996               1        101699.77       1        0      0       0     1  \n",
       "9997               1         42085.58       1        0      0       1     0  \n",
       "9998               0         92888.52       0        1      0       0     1  \n",
       "9999               0         38190.78       1        0      0       1     0  \n",
       "\n",
       "[10000 rows x 13 columns]"
      ]
     },
     "execution_count": 11,
     "metadata": {},
     "output_type": "execute_result"
    }
   ],
   "source": [
    "x"
   ]
  },
  {
   "cell_type": "markdown",
   "id": "4cc45d19",
   "metadata": {},
   "source": [
    "# Splitting The Dataset Into Training set and Test Set"
   ]
  },
  {
   "cell_type": "code",
   "execution_count": 12,
   "id": "494feb18",
   "metadata": {},
   "outputs": [],
   "source": [
    "from sklearn.model_selection import train_test_split"
   ]
  },
  {
   "cell_type": "code",
   "execution_count": 13,
   "id": "65f30c10",
   "metadata": {},
   "outputs": [],
   "source": [
    "x_train,x_test,y_train,y_test = train_test_split(x,y,test_size=0.2,random_state = 0)"
   ]
  },
  {
   "cell_type": "markdown",
   "id": "b1676beb",
   "metadata": {},
   "source": [
    "# Feature Scaling"
   ]
  },
  {
   "cell_type": "code",
   "execution_count": 14,
   "id": "c28c6811",
   "metadata": {},
   "outputs": [],
   "source": [
    "from sklearn.preprocessing import StandardScaler\n",
    "\n",
    "#Min Max Scaler CNN to apply between 0-1\n",
    "\n",
    "sc = StandardScaler()\n"
   ]
  },
  {
   "cell_type": "code",
   "execution_count": 15,
   "id": "1a21e0c6",
   "metadata": {},
   "outputs": [],
   "source": [
    "x_train = sc.fit_transform(x_train)\n",
    "x_test = sc.transform(x_test)"
   ]
  },
  {
   "cell_type": "code",
   "execution_count": 16,
   "id": "2b9a30df",
   "metadata": {},
   "outputs": [
    {
     "data": {
      "text/plain": [
       "array([[ 0.16958176, -0.46460796,  0.00666099, ...,  1.74309049,\n",
       "         1.09168714, -1.09168714],\n",
       "       [-2.30455945,  0.30102557, -1.37744033, ..., -0.57369368,\n",
       "        -0.91601335,  0.91601335],\n",
       "       [-1.19119591, -0.94312892, -1.031415  , ..., -0.57369368,\n",
       "         1.09168714, -1.09168714],\n",
       "       ...,\n",
       "       [ 0.9015152 , -0.36890377,  0.00666099, ..., -0.57369368,\n",
       "        -0.91601335,  0.91601335],\n",
       "       [-0.62420521, -0.08179119,  1.39076231, ...,  1.74309049,\n",
       "         1.09168714, -1.09168714],\n",
       "       [-0.28401079,  0.87525072, -1.37744033, ..., -0.57369368,\n",
       "         1.09168714, -1.09168714]])"
      ]
     },
     "execution_count": 16,
     "metadata": {},
     "output_type": "execute_result"
    }
   ],
   "source": [
    "x_train"
   ]
  },
  {
   "cell_type": "code",
   "execution_count": 17,
   "id": "d91923d8",
   "metadata": {},
   "outputs": [
    {
     "data": {
      "text/plain": [
       "array([[-0.55204276, -0.36890377,  1.04473698, ..., -0.57369368,\n",
       "         1.09168714, -1.09168714],\n",
       "       [-1.31490297,  0.10961719, -1.031415  , ..., -0.57369368,\n",
       "         1.09168714, -1.09168714],\n",
       "       [ 0.57162971,  0.30102557,  1.04473698, ...,  1.74309049,\n",
       "         1.09168714, -1.09168714],\n",
       "       ...,\n",
       "       [-0.74791227, -0.27319958, -1.37744033, ...,  1.74309049,\n",
       "        -0.91601335,  0.91601335],\n",
       "       [-0.00566991, -0.46460796, -0.33936434, ..., -0.57369368,\n",
       "        -0.91601335,  0.91601335],\n",
       "       [-0.79945688, -0.84742473,  1.04473698, ..., -0.57369368,\n",
       "        -0.91601335,  0.91601335]])"
      ]
     },
     "execution_count": 17,
     "metadata": {},
     "output_type": "execute_result"
    }
   ],
   "source": [
    "x_test"
   ]
  },
  {
   "cell_type": "code",
   "execution_count": 18,
   "id": "c2ec9ac1",
   "metadata": {},
   "outputs": [
    {
     "data": {
      "text/plain": [
       "(8000, 13)"
      ]
     },
     "execution_count": 18,
     "metadata": {},
     "output_type": "execute_result"
    }
   ],
   "source": [
    "x_train.shape"
   ]
  },
  {
   "cell_type": "markdown",
   "id": "f3869e4c",
   "metadata": {},
   "source": [
    "# Part Two Lets Create the ANN"
   ]
  },
  {
   "cell_type": "code",
   "execution_count": 19,
   "id": "8138cd6d",
   "metadata": {},
   "outputs": [],
   "source": [
    "from tensorflow.keras.models import Sequential\n",
    "\n",
    "from tensorflow.keras.layers import Dense\n",
    "\n",
    "from tensorflow.keras.layers import ELU  ## Relu,PRelu,\n",
    "\n",
    "from tensorflow.keras.layers import Dropout"
   ]
  },
  {
   "cell_type": "code",
   "execution_count": 20,
   "id": "27ba68e4",
   "metadata": {},
   "outputs": [],
   "source": [
    "### Initializing The ANN \n",
    "\n",
    "classifier = Sequential()"
   ]
  },
  {
   "cell_type": "code",
   "execution_count": 44,
   "id": "d7e468df",
   "metadata": {},
   "outputs": [],
   "source": [
    "## Adding the input Layer  See the shape of X_train DataShape\n",
    "\n",
    "classifier.add(Dense(units = 11,activation ='relu'))\n"
   ]
  },
  {
   "cell_type": "code",
   "execution_count": 45,
   "id": "13cb1b06",
   "metadata": {},
   "outputs": [],
   "source": [
    "## Adding First Hidden Layer \n",
    "\n",
    "classifier.add(Dense(units=7,activation = 'relu'))\n",
    "classifier.add(Dropout(0.3))"
   ]
  },
  {
   "cell_type": "code",
   "execution_count": 46,
   "id": "6c67ed9b",
   "metadata": {},
   "outputs": [],
   "source": [
    "## Adding the Second hidden Layer\n",
    "\n",
    "classifier.add(Dense(units=6,activation='relu'))\n",
    "classifier.add(Dropout(0.2))"
   ]
  },
  {
   "cell_type": "code",
   "execution_count": 47,
   "id": "0436dc7d",
   "metadata": {},
   "outputs": [],
   "source": [
    "##Adding the ouyput Layer \n",
    "classifier.add(Dense(1,activation='sigmoid'))"
   ]
  },
  {
   "cell_type": "code",
   "execution_count": 48,
   "id": "783e1cad",
   "metadata": {},
   "outputs": [],
   "source": [
    "classifier.compile(optimizer ='adam',loss='binary_crossentropy',metrics=['accuracy'])"
   ]
  },
  {
   "cell_type": "markdown",
   "id": "ad89e525",
   "metadata": {},
   "source": [
    "#### Adam opti,izer uses learning rate of 0.1 if we want add it by our own just follow below"
   ]
  },
  {
   "cell_type": "code",
   "execution_count": 49,
   "id": "ee636c4b",
   "metadata": {},
   "outputs": [],
   "source": [
    "import tensorflow\n",
    "opt = tensorflow.keras.optimizers.Adam(learning_rate = 0.01)"
   ]
  },
  {
   "cell_type": "code",
   "execution_count": 50,
   "id": "c4168529",
   "metadata": {},
   "outputs": [],
   "source": [
    "#classifier.compile(optimizer ='adam',loss='binary_crossentropy',metrics=['accuracy'])\n",
    "#We can use this also "
   ]
  },
  {
   "cell_type": "markdown",
   "id": "f4f52278",
   "metadata": {},
   "source": [
    "Early Stopping"
   ]
  },
  {
   "cell_type": "code",
   "execution_count": 51,
   "id": "6b0d1b93",
   "metadata": {},
   "outputs": [],
   "source": [
    "import tensorflow as tf\n",
    "early_stop = tf.keras.callbacks.EarlyStopping(\n",
    "    monitor=\"val_loss\",\n",
    "    min_delta=0.0001,\n",
    "    patience=50,\n",
    "    verbose=1,\n",
    "    mode=\"auto\",\n",
    "    baseline=None,\n",
    "    restore_best_weights=False,\n",
    "    start_from_epoch=0,\n",
    ")"
   ]
  },
  {
   "cell_type": "code",
   "execution_count": 52,
   "id": "4ff359e0",
   "metadata": {},
   "outputs": [
    {
     "name": "stdout",
     "output_type": "stream",
     "text": [
      "Epoch 1/100\n",
      "536/536 [==============================] - 2s 2ms/step - loss: 0.4934 - accuracy: 0.8291 - val_loss: 0.4014 - val_accuracy: 0.8482\n",
      "Epoch 2/100\n",
      "536/536 [==============================] - 1s 2ms/step - loss: 0.4044 - accuracy: 0.8440 - val_loss: 0.3837 - val_accuracy: 0.8410\n",
      "Epoch 3/100\n",
      "536/536 [==============================] - 1s 2ms/step - loss: 0.3845 - accuracy: 0.8561 - val_loss: 0.3881 - val_accuracy: 0.8470\n",
      "Epoch 4/100\n",
      "536/536 [==============================] - 1s 2ms/step - loss: 0.3787 - accuracy: 0.8517 - val_loss: 0.3778 - val_accuracy: 0.8489\n",
      "Epoch 5/100\n",
      "536/536 [==============================] - 1s 2ms/step - loss: 0.3729 - accuracy: 0.8580 - val_loss: 0.3872 - val_accuracy: 0.8485\n",
      "Epoch 6/100\n",
      "536/536 [==============================] - 1s 2ms/step - loss: 0.3661 - accuracy: 0.8612 - val_loss: 0.3798 - val_accuracy: 0.8444\n",
      "Epoch 7/100\n",
      "536/536 [==============================] - 1s 2ms/step - loss: 0.3560 - accuracy: 0.8623 - val_loss: 0.3793 - val_accuracy: 0.8485\n",
      "Epoch 8/100\n",
      "536/536 [==============================] - 1s 2ms/step - loss: 0.3679 - accuracy: 0.8545 - val_loss: 0.3763 - val_accuracy: 0.8463\n",
      "Epoch 9/100\n",
      "536/536 [==============================] - 1s 2ms/step - loss: 0.3601 - accuracy: 0.8565 - val_loss: 0.3779 - val_accuracy: 0.8478\n",
      "Epoch 10/100\n",
      "536/536 [==============================] - 1s 2ms/step - loss: 0.3520 - accuracy: 0.8614 - val_loss: 0.3738 - val_accuracy: 0.8448\n",
      "Epoch 11/100\n",
      "536/536 [==============================] - 1s 2ms/step - loss: 0.3539 - accuracy: 0.8614 - val_loss: 0.3792 - val_accuracy: 0.8474\n",
      "Epoch 12/100\n",
      "536/536 [==============================] - 1s 2ms/step - loss: 0.3632 - accuracy: 0.8574 - val_loss: 0.3732 - val_accuracy: 0.8478\n",
      "Epoch 13/100\n",
      "536/536 [==============================] - 1s 2ms/step - loss: 0.3554 - accuracy: 0.8610 - val_loss: 0.3955 - val_accuracy: 0.8436\n",
      "Epoch 14/100\n",
      "536/536 [==============================] - 1s 2ms/step - loss: 0.3546 - accuracy: 0.8578 - val_loss: 0.3779 - val_accuracy: 0.8463\n",
      "Epoch 15/100\n",
      "536/536 [==============================] - 1s 2ms/step - loss: 0.3557 - accuracy: 0.8614 - val_loss: 0.3784 - val_accuracy: 0.8459\n",
      "Epoch 16/100\n",
      "536/536 [==============================] - 1s 2ms/step - loss: 0.3514 - accuracy: 0.8612 - val_loss: 0.3790 - val_accuracy: 0.8444\n",
      "Epoch 17/100\n",
      "536/536 [==============================] - 1s 2ms/step - loss: 0.3554 - accuracy: 0.8578 - val_loss: 0.3886 - val_accuracy: 0.8444\n",
      "Epoch 18/100\n",
      "536/536 [==============================] - 1s 2ms/step - loss: 0.3558 - accuracy: 0.8572 - val_loss: 0.3805 - val_accuracy: 0.8448\n",
      "Epoch 19/100\n",
      "536/536 [==============================] - 1s 2ms/step - loss: 0.3470 - accuracy: 0.8597 - val_loss: 0.3863 - val_accuracy: 0.8474\n",
      "Epoch 20/100\n",
      "536/536 [==============================] - 1s 2ms/step - loss: 0.3514 - accuracy: 0.8600 - val_loss: 0.3796 - val_accuracy: 0.8451\n",
      "Epoch 21/100\n",
      "536/536 [==============================] - 1s 2ms/step - loss: 0.3470 - accuracy: 0.8606 - val_loss: 0.3810 - val_accuracy: 0.8444\n",
      "Epoch 22/100\n",
      "536/536 [==============================] - 1s 2ms/step - loss: 0.3502 - accuracy: 0.8608 - val_loss: 0.3897 - val_accuracy: 0.8436\n",
      "Epoch 23/100\n",
      "536/536 [==============================] - 1s 2ms/step - loss: 0.3433 - accuracy: 0.8662 - val_loss: 0.3796 - val_accuracy: 0.8455\n",
      "Epoch 24/100\n",
      "536/536 [==============================] - 1s 2ms/step - loss: 0.3448 - accuracy: 0.8625 - val_loss: 0.3888 - val_accuracy: 0.8429\n",
      "Epoch 25/100\n",
      "536/536 [==============================] - 1s 2ms/step - loss: 0.3482 - accuracy: 0.8567 - val_loss: 0.3878 - val_accuracy: 0.8429\n",
      "Epoch 26/100\n",
      "536/536 [==============================] - 1s 2ms/step - loss: 0.3493 - accuracy: 0.8647 - val_loss: 0.3900 - val_accuracy: 0.8425\n",
      "Epoch 27/100\n",
      "536/536 [==============================] - 1s 2ms/step - loss: 0.3510 - accuracy: 0.8612 - val_loss: 0.3896 - val_accuracy: 0.8421\n",
      "Epoch 28/100\n",
      "536/536 [==============================] - 1s 2ms/step - loss: 0.3447 - accuracy: 0.8593 - val_loss: 0.3823 - val_accuracy: 0.8459\n",
      "Epoch 29/100\n",
      "536/536 [==============================] - 1s 2ms/step - loss: 0.3444 - accuracy: 0.8636 - val_loss: 0.3880 - val_accuracy: 0.8417\n",
      "Epoch 30/100\n",
      "536/536 [==============================] - 1s 2ms/step - loss: 0.3444 - accuracy: 0.8643 - val_loss: 0.3768 - val_accuracy: 0.8459\n",
      "Epoch 31/100\n",
      "536/536 [==============================] - 1s 2ms/step - loss: 0.3382 - accuracy: 0.8653 - val_loss: 0.3887 - val_accuracy: 0.8417\n",
      "Epoch 32/100\n",
      "536/536 [==============================] - 1s 2ms/step - loss: 0.3362 - accuracy: 0.8666 - val_loss: 0.3959 - val_accuracy: 0.8440\n",
      "Epoch 33/100\n",
      "536/536 [==============================] - 1s 2ms/step - loss: 0.3513 - accuracy: 0.8610 - val_loss: 0.3877 - val_accuracy: 0.8432\n",
      "Epoch 34/100\n",
      "536/536 [==============================] - 1s 2ms/step - loss: 0.3408 - accuracy: 0.8612 - val_loss: 0.3894 - val_accuracy: 0.8425\n",
      "Epoch 35/100\n",
      "536/536 [==============================] - 1s 2ms/step - loss: 0.3484 - accuracy: 0.8612 - val_loss: 0.3812 - val_accuracy: 0.8455\n",
      "Epoch 36/100\n",
      "536/536 [==============================] - 1s 2ms/step - loss: 0.3374 - accuracy: 0.8645 - val_loss: 0.3812 - val_accuracy: 0.8429\n",
      "Epoch 37/100\n",
      "536/536 [==============================] - 1s 2ms/step - loss: 0.3435 - accuracy: 0.8640 - val_loss: 0.3891 - val_accuracy: 0.8425\n",
      "Epoch 38/100\n",
      "536/536 [==============================] - 1s 2ms/step - loss: 0.3422 - accuracy: 0.8627 - val_loss: 0.3858 - val_accuracy: 0.8410\n",
      "Epoch 39/100\n",
      "536/536 [==============================] - 1s 2ms/step - loss: 0.3408 - accuracy: 0.8630 - val_loss: 0.3784 - val_accuracy: 0.8436\n",
      "Epoch 40/100\n",
      "536/536 [==============================] - 1s 2ms/step - loss: 0.3437 - accuracy: 0.8645 - val_loss: 0.3836 - val_accuracy: 0.8432\n",
      "Epoch 41/100\n",
      "536/536 [==============================] - 1s 2ms/step - loss: 0.3466 - accuracy: 0.8580 - val_loss: 0.3978 - val_accuracy: 0.8429\n",
      "Epoch 42/100\n",
      "536/536 [==============================] - 1s 2ms/step - loss: 0.3409 - accuracy: 0.8615 - val_loss: 0.3862 - val_accuracy: 0.8448\n",
      "Epoch 43/100\n",
      "536/536 [==============================] - 1s 2ms/step - loss: 0.3429 - accuracy: 0.8649 - val_loss: 0.3894 - val_accuracy: 0.8398\n",
      "Epoch 44/100\n",
      "536/536 [==============================] - 1s 2ms/step - loss: 0.3403 - accuracy: 0.8643 - val_loss: 0.3861 - val_accuracy: 0.8448\n",
      "Epoch 45/100\n",
      "536/536 [==============================] - 1s 2ms/step - loss: 0.3374 - accuracy: 0.8701 - val_loss: 0.3821 - val_accuracy: 0.8429\n",
      "Epoch 46/100\n",
      "536/536 [==============================] - 1s 2ms/step - loss: 0.3430 - accuracy: 0.8606 - val_loss: 0.3919 - val_accuracy: 0.8429\n",
      "Epoch 47/100\n",
      "536/536 [==============================] - 1s 2ms/step - loss: 0.3434 - accuracy: 0.8628 - val_loss: 0.3833 - val_accuracy: 0.8455\n",
      "Epoch 48/100\n",
      "536/536 [==============================] - 1s 2ms/step - loss: 0.3485 - accuracy: 0.8612 - val_loss: 0.3902 - val_accuracy: 0.8444\n",
      "Epoch 49/100\n",
      "536/536 [==============================] - 1s 2ms/step - loss: 0.3390 - accuracy: 0.8638 - val_loss: 0.3784 - val_accuracy: 0.8429\n",
      "Epoch 50/100\n",
      "536/536 [==============================] - 1s 2ms/step - loss: 0.3368 - accuracy: 0.8610 - val_loss: 0.3919 - val_accuracy: 0.8413\n",
      "Epoch 51/100\n",
      "536/536 [==============================] - 1s 2ms/step - loss: 0.3448 - accuracy: 0.8600 - val_loss: 0.3840 - val_accuracy: 0.8440\n",
      "Epoch 52/100\n",
      "536/536 [==============================] - 1s 2ms/step - loss: 0.3406 - accuracy: 0.8656 - val_loss: 0.4020 - val_accuracy: 0.8376\n",
      "Epoch 53/100\n",
      "536/536 [==============================] - 1s 2ms/step - loss: 0.3413 - accuracy: 0.8627 - val_loss: 0.3928 - val_accuracy: 0.8448\n",
      "Epoch 54/100\n",
      "536/536 [==============================] - 1s 2ms/step - loss: 0.3326 - accuracy: 0.8664 - val_loss: 0.3871 - val_accuracy: 0.8440\n",
      "Epoch 55/100\n",
      "536/536 [==============================] - 1s 2ms/step - loss: 0.3467 - accuracy: 0.8600 - val_loss: 0.3831 - val_accuracy: 0.8429\n",
      "Epoch 56/100\n",
      "536/536 [==============================] - 1s 2ms/step - loss: 0.3348 - accuracy: 0.8677 - val_loss: 0.3920 - val_accuracy: 0.8432\n",
      "Epoch 57/100\n",
      "536/536 [==============================] - 1s 2ms/step - loss: 0.3439 - accuracy: 0.8617 - val_loss: 0.3841 - val_accuracy: 0.8413\n"
     ]
    },
    {
     "name": "stdout",
     "output_type": "stream",
     "text": [
      "Epoch 58/100\n",
      "536/536 [==============================] - 1s 2ms/step - loss: 0.3418 - accuracy: 0.8640 - val_loss: 0.3858 - val_accuracy: 0.8421\n",
      "Epoch 59/100\n",
      "536/536 [==============================] - 1s 2ms/step - loss: 0.3465 - accuracy: 0.8627 - val_loss: 0.3862 - val_accuracy: 0.8398\n",
      "Epoch 60/100\n",
      "536/536 [==============================] - 1s 2ms/step - loss: 0.3395 - accuracy: 0.8608 - val_loss: 0.3877 - val_accuracy: 0.8417\n",
      "Epoch 61/100\n",
      "536/536 [==============================] - 1s 2ms/step - loss: 0.3380 - accuracy: 0.8612 - val_loss: 0.3782 - val_accuracy: 0.8406\n",
      "Epoch 62/100\n",
      "536/536 [==============================] - 1s 2ms/step - loss: 0.3450 - accuracy: 0.8606 - val_loss: 0.3887 - val_accuracy: 0.8406\n",
      "Epoch 62: early stopping\n"
     ]
    }
   ],
   "source": [
    "model_history = classifier.fit(x_train,y_train,validation_split=0.33,batch_size=10,epochs=100,callbacks=early_stop)"
   ]
  },
  {
   "cell_type": "code",
   "execution_count": 53,
   "id": "65fef18e",
   "metadata": {},
   "outputs": [
    {
     "data": {
      "text/plain": [
       "dict_keys(['loss', 'accuracy', 'val_loss', 'val_accuracy'])"
      ]
     },
     "execution_count": 53,
     "metadata": {},
     "output_type": "execute_result"
    }
   ],
   "source": [
    "model_history.history.keys()"
   ]
  },
  {
   "cell_type": "code",
   "execution_count": 54,
   "id": "43a52921",
   "metadata": {},
   "outputs": [],
   "source": [
    "#Summarize the History For the Accuracy"
   ]
  },
  {
   "cell_type": "code",
   "execution_count": 55,
   "id": "e61c72fd",
   "metadata": {},
   "outputs": [
    {
     "data": {
      "text/plain": [
       "<matplotlib.legend.Legend at 0x2a7a50adc70>"
      ]
     },
     "execution_count": 55,
     "metadata": {},
     "output_type": "execute_result"
    },
    {
     "data": {
      "image/png": "[encoded data removed]",
      "text/plain": [
       "<Figure size 640x480 with 1 Axes>"
      ]
     },
     "metadata": {},
     "output_type": "display_data"
    }
   ],
   "source": [
    "plt.plot(model_history.history['accuracy'])\n",
    "plt.plot(model_history.history['val_accuracy'])\n",
    "plt.title('Model Accuracy')\n",
    "plt.ylabel('accuracy')\n",
    "plt.xlabel('Epoch')\n",
    "plt.legend(['Train','Test'],loc=5)\n"
   ]
  },
  {
   "cell_type": "code",
   "execution_count": 56,
   "id": "97a4bc75",
   "metadata": {},
   "outputs": [
    {
     "data": {
      "text/plain": [
       "<matplotlib.legend.Legend at 0x2a7aaf60340>"
      ]
     },
     "execution_count": 56,
     "metadata": {},
     "output_type": "execute_result"
    },
    {
     "data": {
      "image/png": "[encoded data removed]",
      "text/plain": [
       "<Figure size 640x480 with 1 Axes>"
      ]
     },
     "metadata": {},
     "output_type": "display_data"
    }
   ],
   "source": [
    "plt.plot(model_history.history['loss'])\n",
    "plt.plot(model_history.history['val_loss'])\n",
    "plt.title('Model Accuracy')\n",
    "plt.ylabel('accuracy')\n",
    "plt.xlabel('Epoch')\n",
    "plt.legend(['Train','Test'],loc=0)\n"
   ]
  },
  {
   "cell_type": "markdown",
   "id": "f89c476c",
   "metadata": {},
   "source": [
    "# Making the prediction and evaluating the model"
   ]
  },
  {
   "cell_type": "markdown",
   "id": "36e5b046",
   "metadata": {},
   "source": [
    "### Predicting The test set results "
   ]
  },
  {
   "cell_type": "code",
   "execution_count": 57,
   "id": "7594bb5e",
   "metadata": {},
   "outputs": [
    {
     "name": "stdout",
     "output_type": "stream",
     "text": [
      "63/63 [==============================] - 0s 785us/step\n"
     ]
    }
   ],
   "source": [
    "y_pred = classifier.predict(x_test)\n",
    "y_pred = (y_pred >= 0.5)"
   ]
  },
  {
   "cell_type": "markdown",
   "id": "b308cd7b",
   "metadata": {},
   "source": [
    "#### Make the confusion matrix"
   ]
  },
  {
   "cell_type": "code",
   "execution_count": 58,
   "id": "6c30a7b6",
   "metadata": {},
   "outputs": [],
   "source": [
    "from sklearn.metrics import confusion_matrix"
   ]
  },
  {
   "cell_type": "code",
   "execution_count": 59,
   "id": "1ab4aad2",
   "metadata": {},
   "outputs": [
    {
     "data": {
      "text/plain": [
       "array([[1572,   23],\n",
       "       [ 267,  138]], dtype=int64)"
      ]
     },
     "execution_count": 59,
     "metadata": {},
     "output_type": "execute_result"
    }
   ],
   "source": [
    "cm = confusion_matrix(y_test,y_pred)\n",
    "cm"
   ]
  },
  {
   "cell_type": "markdown",
   "id": "b104ac59",
   "metadata": {},
   "source": [
    "# Calculate the Accuracy"
   ]
  },
  {
   "cell_type": "code",
   "execution_count": 60,
   "id": "6fe1db41",
   "metadata": {},
   "outputs": [],
   "source": [
    "from sklearn.metrics import accuracy_score"
   ]
  },
  {
   "cell_type": "code",
   "execution_count": 61,
   "id": "ee5afa6b",
   "metadata": {},
   "outputs": [],
   "source": [
    "score = accuracy_score(y_pred,y_test)"
   ]
  },
  {
   "cell_type": "code",
   "execution_count": 62,
   "id": "e70cb741",
   "metadata": {},
   "outputs": [
    {
     "data": {
      "text/plain": [
       "0.855"
      ]
     },
     "execution_count": 62,
     "metadata": {},
     "output_type": "execute_result"
    }
   ],
   "source": [
    "score"
   ]
  },
  {
   "cell_type": "markdown",
   "id": "53384e7a",
   "metadata": {},
   "source": [
    "## Get The Weights "
   ]
  },
  {
   "cell_type": "code",
   "execution_count": 63,
   "id": "8268f37a",
   "metadata": {},
   "outputs": [
    {
     "data": {
      "text/plain": [
       "[array([[-0.11262888,  0.05568458,  0.21171887,  0.3589546 , -0.03710062,\n",
       "         -0.02315269,  0.0258396 , -0.12167898,  0.25094542,  0.03997145,\n",
       "         -0.04065477],\n",
       "        [ 0.3895307 ,  0.04214291, -0.8235856 , -0.5507904 , -0.91664714,\n",
       "         -1.2688859 ,  0.18863831, -0.49470636,  0.23216164,  0.81622726,\n",
       "          0.21186732],\n",
       "        [-0.36288646, -0.04719105, -0.18652087,  0.43619454, -0.48923084,\n",
       "         -0.10025955,  0.2939627 , -0.2691572 , -0.41660577,  0.07351907,\n",
       "         -0.06551845],\n",
       "        [ 0.3210905 , -0.94023764,  0.03855507, -0.6397557 , -0.2996725 ,\n",
       "         -0.4675721 , -0.07084351,  1.5450777 , -0.4215324 , -0.02229543,\n",
       "          0.2051354 ],\n",
       "        [-0.23309647, -1.1989406 ,  0.2766515 ,  0.03450326,  0.5331139 ,\n",
       "          0.0542949 , -0.07924668,  0.55246747,  0.2781075 ,  0.52558047,\n",
       "          1.286507  ],\n",
       "        [ 0.10075321,  0.03656494, -0.17915757, -0.16557837,  0.3587323 ,\n",
       "          0.05624447,  0.29906002, -0.29247624, -0.3923885 ,  0.11973421,\n",
       "          0.09817356],\n",
       "        [-0.5844169 , -0.16689813, -0.6285684 ,  0.44440442, -0.3586693 ,\n",
       "         -0.04082452, -0.2077917 , -0.12248709, -0.7827636 ,  0.35976845,\n",
       "         -0.25696433],\n",
       "        [ 0.30760372, -0.002463  , -0.08094905, -0.63895243,  0.08126193,\n",
       "         -0.17992115, -0.9413504 ,  0.2200028 ,  0.5225831 ,  0.14673813,\n",
       "         -0.02996028],\n",
       "        [-0.10849939, -0.37525085,  0.45649606, -0.31633243, -0.30218354,\n",
       "         -0.05963248, -0.54800403, -0.04987419,  0.40497413, -0.38384864,\n",
       "          0.02419408],\n",
       "        [ 0.08441395,  0.10465015, -0.23908937,  0.19919796,  0.46044925,\n",
       "          0.17812711,  0.11409589,  0.5740579 , -0.19412155, -0.30988884,\n",
       "          0.11707187],\n",
       "        [ 0.06990287, -0.22524834,  0.10195186, -0.32095754, -0.14625613,\n",
       "          0.548889  ,  0.71168655, -0.33332267, -0.17306116,  0.44094712,\n",
       "          0.18001279],\n",
       "        [ 0.34232545, -0.26093537, -0.13108468, -0.42446682,  0.05279079,\n",
       "         -0.59662604,  0.03988811, -0.1241352 , -0.7658745 , -0.46056357,\n",
       "          0.10079996],\n",
       "        [-0.44050458, -0.15991734,  0.36691102,  0.03224715, -0.0628418 ,\n",
       "          0.64728326,  0.19740826,  0.07642361,  0.7446586 ,  0.20451084,\n",
       "         -0.00924542]], dtype=float32),\n",
       " array([ 0.22223112, -0.21483037,  0.48140112,  0.4428747 ,  0.58943874,\n",
       "        -0.08244286,  0.46421754, -0.06697855,  0.20126432,  0.23862205,\n",
       "        -0.9267309 ], dtype=float32),\n",
       " array([[ 0.3761343 , -0.17665628, -0.03351066, -0.23104306, -0.31694102,\n",
       "         -0.05349943, -0.6952228 ],\n",
       "        [ 0.10526146, -0.29454014, -0.25990063, -1.0837694 , -0.8717883 ,\n",
       "          0.03686381,  0.5472066 ],\n",
       "        [-0.9892394 ,  0.01493805,  0.27954963,  0.06648262,  0.3089193 ,\n",
       "         -0.472153  ,  0.27887192],\n",
       "        [ 0.295498  ,  0.36488813,  0.70124614, -0.7817234 ,  0.11801291,\n",
       "         -0.1132948 , -0.28008196],\n",
       "        [-0.6313454 ,  0.07280031,  0.45421237,  0.15510035,  0.12116731,\n",
       "          0.36148337,  0.4846543 ],\n",
       "        [-0.33144346,  0.4156535 ,  0.47609225, -0.00606625,  0.04870616,\n",
       "         -1.0303898 ,  0.32142296],\n",
       "        [ 0.58521235,  0.31737033, -0.9145155 ,  0.06855398,  0.3985028 ,\n",
       "          0.14537646, -0.26385424],\n",
       "        [ 0.12120981,  0.01206635, -0.49918666,  0.49232474, -0.51079327,\n",
       "         -0.85864305, -0.08586688],\n",
       "        [ 0.6967607 ,  0.10825971,  0.533774  , -0.5191785 , -1.2568865 ,\n",
       "         -0.5617592 ,  0.06692814],\n",
       "        [-0.79826397, -0.6910399 ,  0.34028003, -0.11236361, -0.01587228,\n",
       "          0.01773566, -0.00535148],\n",
       "        [ 0.6549147 , -0.06856208, -0.30296996, -0.44495776, -0.20584494,\n",
       "         -0.600295  ,  1.3999262 ]], dtype=float32),\n",
       " array([-0.18426926,  0.8012356 ,  0.3434865 ,  0.40097997,  0.3817328 ,\n",
       "         0.43382412, -0.37729102], dtype=float32),\n",
       " array([[-1.0241215 , -0.01391747, -0.25921297, -0.00880149, -2.1909928 ,\n",
       "          0.63371104],\n",
       "        [-0.33060536,  0.09502141, -0.22719103,  0.27060723,  0.01315181,\n",
       "         -0.55190706],\n",
       "        [ 0.51101035,  0.46915296, -0.39903516,  0.31609678,  0.38542038,\n",
       "          0.09064026],\n",
       "        [-0.08934468,  0.26813388,  0.99294645,  0.9435179 , -0.3062725 ,\n",
       "         -1.8575667 ],\n",
       "        [ 0.5088051 ,  0.66418797,  0.4891416 , -0.06077309,  0.3854076 ,\n",
       "         -1.5561094 ],\n",
       "        [-0.10557732,  0.5966068 ,  1.1281489 ,  0.2170199 ,  0.4535293 ,\n",
       "         -0.07949339],\n",
       "        [-0.03056967, -0.07846478, -0.56352   , -0.09125926, -1.1484475 ,\n",
       "          0.6944397 ]], dtype=float32),\n",
       " array([0.18198325, 0.4474307 , 0.54564273, 0.4872239 , 0.2552179 ,\n",
       "        0.5033459 ], dtype=float32),\n",
       " array([[-0.80989736],\n",
       "        [-0.7670437 ],\n",
       "        [-0.7043254 ],\n",
       "        [-0.8933332 ],\n",
       "        [-1.6137115 ],\n",
       "        [ 1.4429798 ]], dtype=float32),\n",
       " array([-0.02502317], dtype=float32),\n",
       " array([[ 0.8610666 , -0.3623769 , -0.5602921 ,  1.201159  ,  1.3862994 ,\n",
       "          1.0613554 ,  0.04198921, -0.02741873, -0.25507474, -0.6246323 ,\n",
       "         -0.32022333]], dtype=float32),\n",
       " array([-0.01895198,  0.        ,  0.        , -0.01195548, -0.01427867,\n",
       "        -0.00928835, -0.04366272,  0.        ,  0.        ,  0.        ,\n",
       "         0.        ], dtype=float32),\n",
       " array([[ 1.1436285 , -0.7867845 ,  0.7523307 ,  0.13300987,  0.16299735,\n",
       "          0.8017315 , -0.04725511],\n",
       "        [-0.3533751 ,  0.26026064, -0.5769141 , -0.2318854 ,  0.09527212,\n",
       "          0.3452633 , -0.12650296],\n",
       "        [-0.00504434, -0.3156115 ,  0.28752697, -0.46913123, -0.32583168,\n",
       "          0.5529984 ,  0.25428164],\n",
       "        [ 0.22448751, -1.2129041 ,  0.5396739 , -0.30631372,  1.0570441 ,\n",
       "          0.62736344, -0.3234886 ],\n",
       "        [-0.47145826, -0.97092223, -0.12317272, -0.12832022,  0.505214  ,\n",
       "          1.1630061 ,  0.8179804 ],\n",
       "        [ 0.27381182, -1.1316305 ,  0.7143066 , -0.36438924,  0.01258279,\n",
       "          0.5496942 ,  0.71462256],\n",
       "        [ 0.00160337, -0.02710765,  0.34717485, -0.089086  , -0.11918311,\n",
       "         -0.41638273,  0.11322163],\n",
       "        [-0.5473298 ,  0.23203325,  0.2532878 ,  0.4110663 ,  0.01236892,\n",
       "          0.34899324,  0.2890783 ],\n",
       "        [ 0.20550585,  0.56496406, -0.01037019, -0.33245134, -0.4077456 ,\n",
       "          0.2502237 ,  0.09899849],\n",
       "        [-0.35041437,  0.04119879, -0.51328874,  0.21123719,  0.2716233 ,\n",
       "         -0.43067992,  0.22703993],\n",
       "        [-0.4957254 , -0.2968216 , -0.48873398,  0.3556326 , -0.16919458,\n",
       "          0.06374454,  0.18986332]], dtype=float32),\n",
       " array([-0.01245324,  0.03299026, -0.00872844, -0.13641469, -0.00909463,\n",
       "        -0.0033493 , -0.04075747], dtype=float32),\n",
       " array([[ 0.5825753 , -0.4764222 , -0.1571937 , -1.2418817 , -1.0150712 ,\n",
       "         -0.08465473, -0.01841225,  0.10025583,  0.98630863, -0.31410202,\n",
       "          0.46290275],\n",
       "        [-0.046097  , -0.15927756, -0.5148586 ,  1.1849413 , -0.22907576,\n",
       "         -0.8308108 ,  0.35948336,  0.77947974, -0.76785165, -0.37346268,\n",
       "         -0.57504743],\n",
       "        [ 0.17777014, -0.48120448,  0.03284082, -1.2042689 ,  1.028646  ,\n",
       "         -0.15434185, -0.4820488 , -0.64398515,  0.42113066, -0.48635674,\n",
       "         -0.21576597],\n",
       "        [-0.32419735, -0.47024244, -0.24524388, -0.05422888,  0.3115887 ,\n",
       "          0.06586516, -0.14513668,  0.40330756,  0.141114  , -0.30644795,\n",
       "         -0.29023117],\n",
       "        [-0.363553  ,  0.6816163 , -0.15614715, -0.69924104, -0.34127313,\n",
       "          0.68083274, -0.5573352 ,  0.56583107,  0.5497702 , -0.32805145,\n",
       "         -0.6141166 ],\n",
       "        [ 0.75069237,  0.29172513, -0.07115296, -0.7163579 , -0.28273746,\n",
       "         -0.06308895, -0.14013395, -0.41346616, -0.82542896, -0.2446517 ,\n",
       "         -0.35093057],\n",
       "        [-0.4992834 ,  0.61476314, -0.10826635, -0.7337255 , -0.4180399 ,\n",
       "          0.7044215 , -0.37442452, -0.69737524,  0.0954513 , -0.36994845,\n",
       "          0.7909695 ]], dtype=float32),\n",
       " array([-0.00579595, -0.03776455, -0.19257395,  0.12132462, -0.00877303,\n",
       "         0.02077209, -0.07678142,  0.09619173, -0.00201727,  0.        ,\n",
       "        -0.00663659], dtype=float32),\n",
       " array([[-0.6973607 ,  0.47410765,  0.49335337, -0.7496266 ,  0.6449873 ,\n",
       "         -0.80950046, -0.97951967],\n",
       "        [-0.75770295,  0.49136737,  0.41356236, -0.24470454,  0.17204347,\n",
       "         -0.67731965,  0.06758538],\n",
       "        [ 0.47708073, -0.20728976, -0.14984217, -0.45269272, -0.4140115 ,\n",
       "         -0.4942867 ,  0.20572191],\n",
       "        [ 0.7198198 , -0.3591324 ,  0.2450819 ,  1.0731146 ,  0.14310212,\n",
       "          0.5751756 ,  1.0068814 ],\n",
       "        [-0.4746738 ,  0.578476  ,  0.8630683 ,  0.03882539,  0.87650144,\n",
       "         -0.91308767, -0.7916401 ],\n",
       "        [-0.57862455, -0.21499145, -0.08402784, -0.7954756 ,  0.40306666,\n",
       "         -0.03773966, -0.4744212 ],\n",
       "        [ 0.07132147, -0.32752067,  0.41674033, -0.36894113,  0.43192086,\n",
       "         -0.02552915,  0.2270842 ],\n",
       "        [ 0.5276499 ,  0.6153058 ,  0.3534872 ,  0.19814664,  0.8838804 ,\n",
       "          0.43018967, -0.16792846],\n",
       "        [-0.58070785,  0.47035873,  0.4219823 , -0.4732202 ,  0.36473277,\n",
       "         -1.0144262 , -0.58367586],\n",
       "        [ 0.33417404,  0.19224328,  0.2006641 ,  0.0484153 ,  0.21154606,\n",
       "          0.03227311, -0.29244593],\n",
       "        [ 0.28875023,  0.68477154,  0.7096104 , -0.11276656,  0.63370895,\n",
       "         -0.87177867, -0.6595249 ]], dtype=float32),\n",
       " array([ 0.06967415, -0.2350491 , -0.19927712,  0.12654498, -0.21666095,\n",
       "         0.11848671,  0.16637805], dtype=float32),\n",
       " array([[-1.2727697 , -0.48905274,  0.8204362 , -1.7146287 ,  0.80464876,\n",
       "          0.03756204],\n",
       "        [ 0.78529835, -0.5471141 , -1.0911688 ,  0.42015225, -0.7624995 ,\n",
       "         -0.18340531],\n",
       "        [ 0.76166147, -0.5289823 , -0.9714024 ,  0.4060556 , -0.80068344,\n",
       "          0.02026533],\n",
       "        [-0.8836143 , -0.26024306,  0.6463004 , -1.1146741 ,  0.64290714,\n",
       "         -0.26351744],\n",
       "        [-0.25831595,  1.0008168 , -0.5893541 ,  0.03351931, -0.33095908,\n",
       "         -0.00173352],\n",
       "        [-0.748526  , -0.5122809 ,  0.5168364 , -1.0470338 ,  0.7852986 ,\n",
       "         -0.52740824],\n",
       "        [-0.89499533, -0.6151989 ,  0.64256287, -0.99313897,  0.5452645 ,\n",
       "         -0.695035  ]], dtype=float32),\n",
       " array([ 0.17809696, -0.10507316,  0.20775835,  0.20864621,  0.21415843,\n",
       "        -0.22798456], dtype=float32),\n",
       " array([[ 0.6123243 ],\n",
       "        [ 0.9750307 ],\n",
       "        [-1.233369  ],\n",
       "        [ 0.7714824 ],\n",
       "        [-1.1871262 ],\n",
       "        [ 0.00171093]], dtype=float32),\n",
       " array([-1.2548149], dtype=float32)]"
      ]
     },
     "execution_count": 63,
     "metadata": {},
     "output_type": "execute_result"
    }
   ],
   "source": [
    "classifier.get_weights()"
   ]
  },
  {
   "cell_type": "code",
   "execution_count": null,
   "id": "61ae93de",
   "metadata": {},
   "outputs": [],
   "source": []
  }
 ],
 "metadata": {
  "kernelspec": {
   "display_name": "Python 3 (ipykernel)",
   "language": "python",
   "name": "python3"
  },
  "language_info": {
   "codemirror_mode": {
    "name": "ipython",
    "version": 3
   },
   "file_extension": ".py",
   "mimetype": "text/x-python",
   "name": "python",
   "nbconvert_exporter": "python",
   "pygments_lexer": "ipython3",
   "version": "3.9.13"
  }
 },
 "nbformat": 4,
 "nbformat_minor": 5
}
